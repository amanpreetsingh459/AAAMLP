{
 "cells": [
  {
   "cell_type": "code",
   "execution_count": 2,
   "metadata": {},
   "outputs": [],
   "source": [
    "import pandas as pd"
   ]
  },
  {
   "cell_type": "code",
   "execution_count": 3,
   "metadata": {},
   "outputs": [],
   "source": [
    "# create a series of datetime with a frequency of 10 hours\n",
    "s = pd.date_range('2020-01-06', '2020-01-10', freq='10H').to_series()"
   ]
  },
  {
   "cell_type": "code",
   "execution_count": 4,
   "metadata": {},
   "outputs": [
    {
     "data": {
      "text/plain": [
       "(10,)"
      ]
     },
     "execution_count": 4,
     "metadata": {},
     "output_type": "execute_result"
    }
   ],
   "source": [
    "s.shape"
   ]
  },
  {
   "cell_type": "code",
   "execution_count": 5,
   "metadata": {},
   "outputs": [
    {
     "name": "stderr",
     "output_type": "stream",
     "text": [
      "D:\\Miniconda3\\envs\\aaamlp\\lib\\site-packages\\ipykernel_launcher.py:8: FutureWarning: Series.dt.weekofyear and Series.dt.week have been deprecated.  Please use Series.dt.isocalendar().week instead.\n",
      "  \n"
     ]
    }
   ],
   "source": [
    "# create some features based on datetime\n",
    "features = {\n",
    "    \"dayofweek\": s.dt.dayofweek.values,\n",
    "    \"dayofyear\": s.dt.dayofyear.values,\n",
    "    \"hour\": s.dt.hour.values,\n",
    "    \"is_leap_year\": s.dt.is_leap_year.values,\n",
    "    \"quarter\": s.dt.quarter.values,\n",
    "    \"weekofyear\": s.dt.weekofyear.values\n",
    "    }"
   ]
  },
  {
   "cell_type": "code",
   "execution_count": 6,
   "metadata": {},
   "outputs": [
    {
     "data": {
      "text/plain": [
       "{'dayofweek': array([0, 0, 0, 1, 1, 2, 2, 2, 3, 3], dtype=int64),\n",
       " 'dayofyear': array([6, 6, 6, 7, 7, 8, 8, 8, 9, 9], dtype=int64),\n",
       " 'hour': array([ 0, 10, 20,  6, 16,  2, 12, 22,  8, 18], dtype=int64),\n",
       " 'is_leap_year': array([ True,  True,  True,  True,  True,  True,  True,  True,  True,\n",
       "         True]),\n",
       " 'quarter': array([1, 1, 1, 1, 1, 1, 1, 1, 1, 1], dtype=int64),\n",
       " 'weekofyear': array([2, 2, 2, 2, 2, 2, 2, 2, 2, 2], dtype=int64)}"
      ]
     },
     "execution_count": 6,
     "metadata": {},
     "output_type": "execute_result"
    }
   ],
   "source": [
    "features"
   ]
  },
  {
   "cell_type": "markdown",
   "metadata": {},
   "source": [
    "### create a bunch of polynomial features"
   ]
  },
  {
   "cell_type": "code",
   "execution_count": 3,
   "metadata": {},
   "outputs": [
    {
     "data": {
      "text/html": [
       "<div>\n",
       "<style scoped>\n",
       "    .dataframe tbody tr th:only-of-type {\n",
       "        vertical-align: middle;\n",
       "    }\n",
       "\n",
       "    .dataframe tbody tr th {\n",
       "        vertical-align: top;\n",
       "    }\n",
       "\n",
       "    .dataframe thead th {\n",
       "        text-align: right;\n",
       "    }\n",
       "</style>\n",
       "<table border=\"1\" class=\"dataframe\">\n",
       "  <thead>\n",
       "    <tr style=\"text-align: right;\">\n",
       "      <th></th>\n",
       "      <th>f_1</th>\n",
       "      <th>f_2</th>\n",
       "    </tr>\n",
       "  </thead>\n",
       "  <tbody>\n",
       "    <tr>\n",
       "      <th>0</th>\n",
       "      <td>0.104757</td>\n",
       "      <td>0.940899</td>\n",
       "    </tr>\n",
       "    <tr>\n",
       "      <th>1</th>\n",
       "      <td>0.178987</td>\n",
       "      <td>0.767265</td>\n",
       "    </tr>\n",
       "    <tr>\n",
       "      <th>2</th>\n",
       "      <td>0.073073</td>\n",
       "      <td>0.597716</td>\n",
       "    </tr>\n",
       "    <tr>\n",
       "      <th>3</th>\n",
       "      <td>0.748365</td>\n",
       "      <td>0.192566</td>\n",
       "    </tr>\n",
       "    <tr>\n",
       "      <th>4</th>\n",
       "      <td>0.771275</td>\n",
       "      <td>0.488062</td>\n",
       "    </tr>\n",
       "  </tbody>\n",
       "</table>\n",
       "</div>"
      ],
      "text/plain": [
       "        f_1       f_2\n",
       "0  0.104757  0.940899\n",
       "1  0.178987  0.767265\n",
       "2  0.073073  0.597716\n",
       "3  0.748365  0.192566\n",
       "4  0.771275  0.488062"
      ]
     },
     "execution_count": 3,
     "metadata": {},
     "output_type": "execute_result"
    }
   ],
   "source": [
    "import numpy as np\n",
    "# generate a random dataframe with\n",
    "# 2 columns and 100 rows\n",
    "df = pd.DataFrame(\n",
    "            np.random.rand(100, 2),\n",
    "            columns=[f\"f_{i}\" for i in range(1, 3)]\n",
    "            )\n",
    "df.head()"
   ]
  },
  {
   "cell_type": "code",
   "execution_count": 4,
   "metadata": {},
   "outputs": [],
   "source": [
    "from sklearn import preprocessing\n",
    "\n",
    "# initialize polynomial features class object\n",
    "# for two-degree polynomial features\n",
    "pf = preprocessing.PolynomialFeatures(\n",
    "                                degree=2,\n",
    "                                interaction_only=False,\n",
    "                                include_bias=False\n",
    "                                )"
   ]
  },
  {
   "cell_type": "code",
   "execution_count": 5,
   "metadata": {},
   "outputs": [
    {
     "data": {
      "text/plain": [
       "PolynomialFeatures(degree=2, include_bias=False, interaction_only=False,\n",
       "                   order='C')"
      ]
     },
     "execution_count": 5,
     "metadata": {},
     "output_type": "execute_result"
    }
   ],
   "source": [
    "# fit to the features\n",
    "pf.fit(df)"
   ]
  },
  {
   "cell_type": "code",
   "execution_count": 6,
   "metadata": {},
   "outputs": [],
   "source": [
    "# create polynomial features\n",
    "poly_feats = pf.transform(df)"
   ]
  },
  {
   "cell_type": "code",
   "execution_count": 7,
   "metadata": {},
   "outputs": [
    {
     "data": {
      "text/html": [
       "<div>\n",
       "<style scoped>\n",
       "    .dataframe tbody tr th:only-of-type {\n",
       "        vertical-align: middle;\n",
       "    }\n",
       "\n",
       "    .dataframe tbody tr th {\n",
       "        vertical-align: top;\n",
       "    }\n",
       "\n",
       "    .dataframe thead th {\n",
       "        text-align: right;\n",
       "    }\n",
       "</style>\n",
       "<table border=\"1\" class=\"dataframe\">\n",
       "  <thead>\n",
       "    <tr style=\"text-align: right;\">\n",
       "      <th></th>\n",
       "      <th>f_1</th>\n",
       "      <th>f_2</th>\n",
       "      <th>f_3</th>\n",
       "      <th>f_4</th>\n",
       "      <th>f_5</th>\n",
       "    </tr>\n",
       "  </thead>\n",
       "  <tbody>\n",
       "    <tr>\n",
       "      <th>0</th>\n",
       "      <td>0.104757</td>\n",
       "      <td>0.940899</td>\n",
       "      <td>0.010974</td>\n",
       "      <td>0.098566</td>\n",
       "      <td>0.885291</td>\n",
       "    </tr>\n",
       "    <tr>\n",
       "      <th>1</th>\n",
       "      <td>0.178987</td>\n",
       "      <td>0.767265</td>\n",
       "      <td>0.032036</td>\n",
       "      <td>0.137331</td>\n",
       "      <td>0.588695</td>\n",
       "    </tr>\n",
       "    <tr>\n",
       "      <th>2</th>\n",
       "      <td>0.073073</td>\n",
       "      <td>0.597716</td>\n",
       "      <td>0.005340</td>\n",
       "      <td>0.043677</td>\n",
       "      <td>0.357265</td>\n",
       "    </tr>\n",
       "    <tr>\n",
       "      <th>3</th>\n",
       "      <td>0.748365</td>\n",
       "      <td>0.192566</td>\n",
       "      <td>0.560050</td>\n",
       "      <td>0.144110</td>\n",
       "      <td>0.037082</td>\n",
       "    </tr>\n",
       "    <tr>\n",
       "      <th>4</th>\n",
       "      <td>0.771275</td>\n",
       "      <td>0.488062</td>\n",
       "      <td>0.594865</td>\n",
       "      <td>0.376430</td>\n",
       "      <td>0.238205</td>\n",
       "    </tr>\n",
       "  </tbody>\n",
       "</table>\n",
       "</div>"
      ],
      "text/plain": [
       "        f_1       f_2       f_3       f_4       f_5\n",
       "0  0.104757  0.940899  0.010974  0.098566  0.885291\n",
       "1  0.178987  0.767265  0.032036  0.137331  0.588695\n",
       "2  0.073073  0.597716  0.005340  0.043677  0.357265\n",
       "3  0.748365  0.192566  0.560050  0.144110  0.037082\n",
       "4  0.771275  0.488062  0.594865  0.376430  0.238205"
      ]
     },
     "execution_count": 7,
     "metadata": {},
     "output_type": "execute_result"
    }
   ],
   "source": [
    "# create a dataframe with all the features\n",
    "num_feats = poly_feats.shape[1]\n",
    "df_transformed = pd.DataFrame(\n",
    "                        poly_feats,\n",
    "                        columns=[f\"f_{i}\" for i in range(1, num_feats + 1)]\n",
    "                        )\n",
    "df_transformed.head()"
   ]
  },
  {
   "cell_type": "markdown",
   "metadata": {},
   "source": [
    "### converts the numbers to categories. It’s known as binning"
   ]
  },
  {
   "cell_type": "code",
   "execution_count": 8,
   "metadata": {},
   "outputs": [
    {
     "data": {
      "text/html": [
       "<div>\n",
       "<style scoped>\n",
       "    .dataframe tbody tr th:only-of-type {\n",
       "        vertical-align: middle;\n",
       "    }\n",
       "\n",
       "    .dataframe tbody tr th {\n",
       "        vertical-align: top;\n",
       "    }\n",
       "\n",
       "    .dataframe thead th {\n",
       "        text-align: right;\n",
       "    }\n",
       "</style>\n",
       "<table border=\"1\" class=\"dataframe\">\n",
       "  <thead>\n",
       "    <tr style=\"text-align: right;\">\n",
       "      <th></th>\n",
       "      <th>f_1</th>\n",
       "      <th>f_2</th>\n",
       "      <th>f_bin_10</th>\n",
       "      <th>f_bin_100</th>\n",
       "    </tr>\n",
       "  </thead>\n",
       "  <tbody>\n",
       "    <tr>\n",
       "      <th>0</th>\n",
       "      <td>0.104757</td>\n",
       "      <td>0.940899</td>\n",
       "      <td>1</td>\n",
       "      <td>10</td>\n",
       "    </tr>\n",
       "    <tr>\n",
       "      <th>1</th>\n",
       "      <td>0.178987</td>\n",
       "      <td>0.767265</td>\n",
       "      <td>1</td>\n",
       "      <td>18</td>\n",
       "    </tr>\n",
       "    <tr>\n",
       "      <th>2</th>\n",
       "      <td>0.073073</td>\n",
       "      <td>0.597716</td>\n",
       "      <td>0</td>\n",
       "      <td>7</td>\n",
       "    </tr>\n",
       "    <tr>\n",
       "      <th>3</th>\n",
       "      <td>0.748365</td>\n",
       "      <td>0.192566</td>\n",
       "      <td>7</td>\n",
       "      <td>75</td>\n",
       "    </tr>\n",
       "    <tr>\n",
       "      <th>4</th>\n",
       "      <td>0.771275</td>\n",
       "      <td>0.488062</td>\n",
       "      <td>7</td>\n",
       "      <td>77</td>\n",
       "    </tr>\n",
       "  </tbody>\n",
       "</table>\n",
       "</div>"
      ],
      "text/plain": [
       "        f_1       f_2  f_bin_10  f_bin_100\n",
       "0  0.104757  0.940899         1         10\n",
       "1  0.178987  0.767265         1         18\n",
       "2  0.073073  0.597716         0          7\n",
       "3  0.748365  0.192566         7         75\n",
       "4  0.771275  0.488062         7         77"
      ]
     },
     "execution_count": 8,
     "metadata": {},
     "output_type": "execute_result"
    }
   ],
   "source": [
    "# create bins of the numerical columns\n",
    "# 10 bins\n",
    "df[\"f_bin_10\"] = pd.cut(df[\"f_1\"], bins=10, labels=False)\n",
    "# 100 bins\n",
    "df[\"f_bin_100\"] = pd.cut(df[\"f_1\"], bins=100, labels=False)\n",
    "\n",
    "df.head()"
   ]
  },
  {
   "cell_type": "markdown",
   "metadata": {},
   "source": [
    "### KNNImputer"
   ]
  },
  {
   "cell_type": "code",
   "execution_count": 9,
   "metadata": {},
   "outputs": [],
   "source": [
    "import numpy as np\n",
    "from sklearn import impute"
   ]
  },
  {
   "cell_type": "code",
   "execution_count": 10,
   "metadata": {},
   "outputs": [
    {
     "data": {
      "text/plain": [
       "array([[ 6,  1,  7,  8,  5, 12],\n",
       "       [ 1,  8,  5,  2, 14,  6],\n",
       "       [10, 10,  9,  7, 14,  6],\n",
       "       [11, 11,  6,  5,  7, 12],\n",
       "       [10, 12,  6, 13,  4, 12],\n",
       "       [ 5, 10, 13,  2, 10,  7],\n",
       "       [13, 14,  1,  3,  4,  2],\n",
       "       [11, 10, 14,  2, 11,  4],\n",
       "       [10, 10,  8,  6,  6,  2],\n",
       "       [ 6,  3,  5,  9,  6,  6]])"
      ]
     },
     "execution_count": 10,
     "metadata": {},
     "output_type": "execute_result"
    }
   ],
   "source": [
    "# create a random numpy array with 10 samples\n",
    "# and 6 features and values ranging from 1 to 15\n",
    "X = np.random.randint(1, 15, (10, 6))\n",
    "X"
   ]
  },
  {
   "cell_type": "code",
   "execution_count": 12,
   "metadata": {},
   "outputs": [
    {
     "data": {
      "text/plain": [
       "array([[ 6.,  1.,  7.,  8.,  5., 12.],\n",
       "       [ 1.,  8.,  5.,  2., 14.,  6.],\n",
       "       [10., 10.,  9.,  7., 14.,  6.],\n",
       "       [11., 11.,  6.,  5.,  7., 12.],\n",
       "       [10., 12.,  6., 13.,  4., 12.],\n",
       "       [ 5., 10., 13.,  2., 10.,  7.],\n",
       "       [13., 14.,  1.,  3.,  4.,  2.],\n",
       "       [11., 10., 14.,  2., 11.,  4.],\n",
       "       [10., 10.,  8.,  6.,  6.,  2.],\n",
       "       [ 6.,  3.,  5.,  9.,  6.,  6.]])"
      ]
     },
     "execution_count": 12,
     "metadata": {},
     "output_type": "execute_result"
    }
   ],
   "source": [
    "# convert the array to float\n",
    "X = X.astype(float)\n",
    "X"
   ]
  },
  {
   "cell_type": "code",
   "execution_count": 14,
   "metadata": {},
   "outputs": [
    {
     "data": {
      "text/plain": [
       "array([[ 6., nan,  7.,  8.,  5., nan],\n",
       "       [ 1., nan, nan,  2., nan,  6.],\n",
       "       [nan, 10.,  9., nan, 14.,  6.],\n",
       "       [11., 11.,  6., nan,  7., 12.],\n",
       "       [10., nan,  6., 13.,  4., 12.],\n",
       "       [nan, 10., nan,  2., 10.,  7.],\n",
       "       [13., 14.,  1.,  3., nan,  2.],\n",
       "       [11., 10., nan, nan, 11., nan],\n",
       "       [10., 10.,  8., nan,  6.,  2.],\n",
       "       [nan,  3., nan, nan, nan,  6.]])"
      ]
     },
     "execution_count": 14,
     "metadata": {},
     "output_type": "execute_result"
    }
   ],
   "source": [
    "# randomly assign 10 elements to NaN (missing)\n",
    "X.ravel()[np.random.choice(X.size, 10, replace=False)] = np.nan\n",
    "X"
   ]
  },
  {
   "cell_type": "code",
   "execution_count": 15,
   "metadata": {},
   "outputs": [
    {
     "data": {
      "text/plain": [
       "array([[ 6. , 10.5,  7. ,  8. ,  5. ,  7. ],\n",
       "       [ 1. ,  6.5,  8. ,  2. , 12. ,  6. ],\n",
       "       [ 6. , 10. ,  9. ,  2. , 14. ,  6. ],\n",
       "       [11. , 11. ,  6. , 10.5,  7. , 12. ],\n",
       "       [10. , 10.5,  6. , 13. ,  4. , 12. ],\n",
       "       [ 6. , 10. ,  7.5,  2. , 10. ,  7. ],\n",
       "       [13. , 14. ,  1. ,  3. , 10.5,  2. ],\n",
       "       [11. , 10. ,  7.5,  2.5, 11. ,  6.5],\n",
       "       [10. , 10. ,  8. ,  5. ,  6. ,  2. ],\n",
       "       [ 5.5,  3. ,  8.5,  2. , 12. ,  6. ]])"
      ]
     },
     "execution_count": 15,
     "metadata": {},
     "output_type": "execute_result"
    }
   ],
   "source": [
    "# use 2 nearest neighbours to fill na values\n",
    "knn_imputer = impute.KNNImputer(n_neighbors=2)\n",
    "knn_imputer.fit_transform(X)"
   ]
  },
  {
   "cell_type": "code",
   "execution_count": null,
   "metadata": {},
   "outputs": [],
   "source": []
  }
 ],
 "metadata": {
  "kernelspec": {
   "display_name": "Python 3",
   "language": "python",
   "name": "python3"
  },
  "language_info": {
   "codemirror_mode": {
    "name": "ipython",
    "version": 3
   },
   "file_extension": ".py",
   "mimetype": "text/x-python",
   "name": "python",
   "nbconvert_exporter": "python",
   "pygments_lexer": "ipython3",
   "version": "3.7.6"
  }
 },
 "nbformat": 4,
 "nbformat_minor": 4
}
